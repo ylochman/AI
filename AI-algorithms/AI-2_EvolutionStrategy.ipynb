{
 "cells": [
  {
   "cell_type": "code",
   "execution_count": 264,
   "metadata": {},
   "outputs": [],
   "source": [
    "import random\n",
    "import math\n",
    "import numpy as np\n",
    "\n",
    "import matplotlib.pyplot as plt"
   ]
  },
  {
   "cell_type": "markdown",
   "metadata": {},
   "source": [
    "# Implementation"
   ]
  },
  {
   "cell_type": "markdown",
   "metadata": {},
   "source": [
    "\n",
    "### Evolution Strategy"
   ]
  },
  {
   "cell_type": "code",
   "execution_count": 456,
   "metadata": {
    "code_folding": [
     2,
     10,
     18,
     25,
     45,
     109,
     118,
     127
    ]
   },
   "outputs": [],
   "source": [
    "class evolution_strategy():\n",
    "    \n",
    "    def __init__(self, f, dim, low, high, mu=10, lam=70):  # mu = number of parents, lam = number of childs\n",
    "        self.f = f\n",
    "        self.dim = dim\n",
    "        self.low = low\n",
    "        self.high = high\n",
    "        self.mu = mu\n",
    "        self.lam = lam\n",
    "        \n",
    "    def _initialize_generation(self):\n",
    "        \"\"\"\n",
    "        initialize generation on the zero iteration\n",
    "        \"\"\"\n",
    "        self.current_generation = np.array([np.array((self.high - self.low) * \\\n",
    "                                             np.random.sample(self.dim) + \\\n",
    "                                             self.low) for i in range(self.mu)]) \n",
    "\n",
    "    def _add_selected_to_new_generation(self):\n",
    "        \"\"\"\n",
    "        initialize new generation on the next iteration\n",
    "        as selected from current generation\n",
    "        \"\"\"\n",
    "        self.new_generation = self.current_generation    \n",
    "    \n",
    "    def _evaluate_fitness(self):\n",
    "        \"\"\"\n",
    "        evaluate fitness-function of each element from current generation\n",
    "        \"\"\"\n",
    "        self.current_fitness = np.array([self.f(el) for el in self.current_generation])\n",
    "    \n",
    "    # SELECTION STAGE\n",
    "    def _run_selection(self):\n",
    "        \"\"\"\n",
    "        select randomly two elements from elements with fitness-function > mean\n",
    "        create current_parents as an array of two floats\n",
    "        \"\"\"\n",
    "        self._evaluate_fitness()\n",
    "        #print(self.current_fitness)\n",
    "        indices = (-self.current_fitness.flatten()).argsort()[:self.mu]\n",
    "        #print(indices)\n",
    "        self.current_generation = np.array(self.current_generation)[indices] \n",
    "        if self.print_out:\n",
    "            print('-> selected generation: ', self.current_generation)\n",
    "\n",
    "    def _define_parents(self):\n",
    "        \"\"\"\n",
    "        select randomly two elements from current_generation\n",
    "                                        with fitness-function > mean\n",
    "        create current_parents as an array of two floats\n",
    "        \"\"\"\n",
    "        self._evaluate_fitness()\n",
    "        m = self.current_fitness.mean()\n",
    "        indices = np.where(self.current_fitness > m)[0]\n",
    "        random.shuffle(indices)\n",
    "        self.parents = np.array(self.current_generation)[indices[:2]] \n",
    "        if self.print_out:\n",
    "            print('-> selected parents: ', self.parents)\n",
    "            \n",
    "        if self.new_generation == None:\n",
    "            self.new_generation = self.parents\n",
    "        else:\n",
    "            for i in range(2):\n",
    "                if not self.parents[i] in self.new_generation:\n",
    "                    self.new_generation = np.vstack((self.new_generation, self.parents[i]))\n",
    "        if self.print_out:\n",
    "            print('-> new generation: ', self.new_generation)  \n",
    "    \n",
    "    # CROSSOVER STAGE\n",
    "    def _make_child(self):\n",
    "        \"\"\"\n",
    "        implement 1-point crossover\n",
    "        create a child from two parents\n",
    "        \"\"\"\n",
    "        point = np.random.randint(self.dim + 1)\n",
    "        if self.print_out:\n",
    "            print('-> crossover point: ', point)\n",
    "            \n",
    "        self.child = np.zeros((1,self.dim))\n",
    "        if point != 0:\n",
    "            self.child[:point] = self.parents[0][:point]\n",
    "        if point != self.dim:\n",
    "            self.child[point:] = self.parents[1][point:]\n",
    "        \n",
    "        if self.print_out:\n",
    "            print('-> created child: ', self.child)      \n",
    "        \n",
    "    \n",
    "    # MUTATION STAGE\n",
    "    def _mutate(self):\n",
    "        \"\"\"\n",
    "        inverse each bit of element with probability p\n",
    "        :param: element - float\n",
    "        return mutated element as float\n",
    "        \"\"\"\n",
    "        if np.random.rand() < self.p_mut:\n",
    "            mutated = self.child + (np.random.rand(dim) - 0.5) * 0.005\n",
    "        else:\n",
    "            mutated = self.child\n",
    "        if self.print_out:\n",
    "            print('->  mutated child: ', mutated)\n",
    "        self.child = mutated\n",
    "        \n",
    "        if not self.child in self.new_generation:\n",
    "            self.new_generation = np.vstack((self.new_generation, self.child))\n",
    "        if self.print_out:\n",
    "            print('-> new generation: ', self.new_generation)  \n",
    "    \n",
    "    # STOP CONDITIONS\n",
    "    def _mean_gen_distance(self):\n",
    "        d = 0\n",
    "        n = len(self.current_generation)\n",
    "        for i in range(n):\n",
    "            for j in range(i,n):\n",
    "                   d += np.linalg.norm(self.current_generation[i] - \n",
    "                                       self.current_generation[j])\n",
    "        return d / n\n",
    "\n",
    "    def _mean_fit_distance(self):\n",
    "        d = 0\n",
    "        n = len(self.current_fitness)\n",
    "        for i in range(n):\n",
    "            for j in range(i,n):\n",
    "                   d += np.linalg.norm(self.current_fitness[i] -\n",
    "                                       self.current_fitness[j])\n",
    "        return d / n\n",
    "    \n",
    "    def _stop_condition(self, n_iter):\n",
    "        return self._mean_gen_distance() < self.eps or \\\n",
    "               self._mean_fit_distance() < self.eps2 or \\\n",
    "               n_iter >= self.max_iter\n",
    "    \n",
    "    def run_algorithm(self, p_cross=0.5, p_mut=0.1,\n",
    "                      eps=0.5, eps2=0.5, \n",
    "                      max_iter=10, print_out=True):\n",
    "        self.p_cross = p_cross\n",
    "        self.p_mut = p_mut\n",
    "        self.eps = eps\n",
    "        self.eps2 = eps2\n",
    "        self.max_iter = max_iter\n",
    "        self.print_out = print_out\n",
    "        \n",
    "        self._initialize_generation()  \n",
    "        self._evaluate_fitness()\n",
    "        n_iter = 0\n",
    "        \n",
    "        while not self._stop_condition(n_iter):\n",
    "            #print(n_iter)\n",
    "            try:\n",
    "                if self.print_out:\n",
    "                    print('-> current generation:', self.current_generation)\n",
    "                self._run_selection()\n",
    "                self.new_generation = None\n",
    "                #self._add_selected_to_new_generation()\n",
    "                for i in range(self.lam):\n",
    "                    self._define_parents()\n",
    "                    self._make_child()\n",
    "                    self._mutate()\n",
    "                self.current_generation = self.new_generation\n",
    "                self._evaluate_fitness()\n",
    "                if self.print_out:\n",
    "                    print('-> new generation:', self.current_generation) # list(set(self.current_generation)))\n",
    "                    print('-> fitness-function values:', self.current_fitness)\n",
    "                n_iter += 1\n",
    "            except:\n",
    "                break\n",
    "                \n",
    "        return self.current_generation[self.current_fitness.argmax()], self.current_fitness.max()"
   ]
  },
  {
   "cell_type": "code",
   "execution_count": 457,
   "metadata": {},
   "outputs": [
    {
     "name": "stderr",
     "output_type": "stream",
     "text": [
      "/Users/Yaroslava/anaconda/lib/python3.6/site-packages/ipykernel_launcher.py:58: FutureWarning: comparison to `None` will result in an elementwise object comparison in the future.\n"
     ]
    },
    {
     "name": "stdout",
     "output_type": "stream",
     "text": [
      "x0 =  [ 0.59886292]\n",
      "f0 =  0.324429754777\n"
     ]
    }
   ],
   "source": [
    "f = lambda x: x / ((1 + x ** 2) ** 2)\n",
    "dim = 1\n",
    "low = -2\n",
    "high = 2\n",
    "ES = evolution_strategy(f, dim, low, high)\n",
    "x0, f0 = ES.run_algorithm(max_iter=500, print_out=False, eps=1e-4, eps2=1e-4)\n",
    "print('x0 = ', x0)\n",
    "print('f0 = ', f0)"
   ]
  },
  {
   "cell_type": "code",
   "execution_count": 458,
   "metadata": {},
   "outputs": [
    {
     "name": "stdout",
     "output_type": "stream",
     "text": [
      "x0 =  [ 0.57735025]\n",
      "f0 =  0.3247595264191642\n"
     ]
    }
   ],
   "source": [
    "from scipy.optimize import minimize\n",
    "print('x0 = ', minimize(lambda x: -f(x), np.zeros((1))).x)\n",
    "print('f0 = ', minimize(lambda x: -f(x), np.zeros((1))).fun * (-1))"
   ]
  },
  {
   "cell_type": "code",
   "execution_count": 459,
   "metadata": {},
   "outputs": [
    {
     "name": "stderr",
     "output_type": "stream",
     "text": [
      "/Users/Yaroslava/anaconda/lib/python3.6/site-packages/ipykernel_launcher.py:58: FutureWarning: comparison to `None` will result in an elementwise object comparison in the future.\n"
     ]
    },
    {
     "name": "stdout",
     "output_type": "stream",
     "text": [
      "x0 =  [ 12.10348996   2.0483176 ]\n",
      "f0 =  29.2329226679\n"
     ]
    }
   ],
   "source": [
    "f = lambda x: 2 * x[0] - x[1]**3 + (1 + x[0])**.5  + 10\n",
    "dim = 2\n",
    "low = 0\n",
    "high = 15\n",
    "ES = evolution_strategy(f, dim, low, high)\n",
    "x0, f0 = ES.run_algorithm(max_iter=500, print_out=False, eps=1e-4, eps2=1e-4)\n",
    "print('x0 = ', x0)\n",
    "print('f0 = ', f0)"
   ]
  },
  {
   "cell_type": "code",
   "execution_count": 460,
   "metadata": {},
   "outputs": [
    {
     "name": "stdout",
     "output_type": "stream",
     "text": [
      "x0 =  [  9.48300787e+08   0.00000000e+00]\n",
      "f0 =  1896632378.2014613\n"
     ]
    }
   ],
   "source": [
    "from scipy.optimize import minimize\n",
    "print('x0 = ', minimize(lambda x: -f(x), np.zeros((dim))).x)\n",
    "print('f0 = ', minimize(lambda x: -f(x), np.zeros((dim))).fun * (-1))"
   ]
  },
  {
   "cell_type": "code",
   "execution_count": 367,
   "metadata": {},
   "outputs": [],
   "source": [
    "?minimize"
   ]
  },
  {
   "cell_type": "code",
   "execution_count": null,
   "metadata": {},
   "outputs": [],
   "source": []
  }
 ],
 "metadata": {
  "kernelspec": {
   "display_name": "Python 3",
   "language": "python",
   "name": "python3"
  },
  "language_info": {
   "codemirror_mode": {
    "name": "ipython",
    "version": 3
   },
   "file_extension": ".py",
   "mimetype": "text/x-python",
   "name": "python",
   "nbconvert_exporter": "python",
   "pygments_lexer": "ipython3",
   "version": "3.6.1"
  }
 },
 "nbformat": 4,
 "nbformat_minor": 2
}
