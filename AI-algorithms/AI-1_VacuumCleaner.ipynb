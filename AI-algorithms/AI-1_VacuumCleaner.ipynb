{
 "cells": [
  {
   "cell_type": "code",
   "execution_count": 12,
   "metadata": {},
   "outputs": [],
   "source": [
    "import numpy as np\n",
    "import random"
   ]
  },
  {
   "cell_type": "code",
   "execution_count": 13,
   "metadata": {},
   "outputs": [],
   "source": []
  },
  {
   "cell_type": "code",
   "execution_count": 203,
   "metadata": {},
   "outputs": [],
   "source": [
    "class VacuumCleaner():\n",
    "    def __init__(self, size=5, sym_empty='_ ', sym_trash='* ',\n",
    "                 sym_vacuum='v '):\n",
    "        self.size = size\n",
    "        self.sym_empty = sym_empty\n",
    "        self.sym_trash = sym_trash\n",
    "        self.sym_vacuum = sym_vacuum\n",
    "        self.mapping = np.vectorize(lambda s: self.sym_empty if s == 0\n",
    "                                    else self.sym_trash if s == 1\n",
    "                                    else self.sym_vacuum)\n",
    "        \n",
    "        self.field = np.zeros((self.size, self.size))\n",
    "        self.field[1,1] = 1\n",
    "        \n",
    "    def print_field(self):\n",
    "        print('\\n'.join(''.join(str(cell) for cell in row)\n",
    "                        for row in self.mapping(self.field)))\n",
    "    \n",
    "    def draw_field(self):\n",
    "        return\n",
    "    \n",
    "    def run_process(self, iterations=100):\n",
    "        for i in range(iterations):\n",
    "            print('iteration {:>3d}: '.format(i))\n",
    "            index = np.random.randint(self.size, size=2)\n",
    "            print(index)\n",
    "            print(self.field[index])\n",
    "            print(self.field[index[0], index[1]])"
   ]
  },
  {
   "cell_type": "code",
   "execution_count": 204,
   "metadata": {},
   "outputs": [],
   "source": [
    "v = VacuumCleaner()"
   ]
  },
  {
   "cell_type": "code",
   "execution_count": 205,
   "metadata": {},
   "outputs": [
    {
     "name": "stdout",
     "output_type": "stream",
     "text": [
      "iteration   0: \n",
      "[4 1]\n",
      "[[ 0.  0.  0.  0.  0.]\n",
      " [ 0.  1.  0.  0.  0.]]\n",
      "0.0\n",
      "iteration   1: \n",
      "[1 1]\n",
      "[[ 0.  1.  0.  0.  0.]\n",
      " [ 0.  1.  0.  0.  0.]]\n",
      "1.0\n"
     ]
    }
   ],
   "source": [
    "v.run_process(2)"
   ]
  },
  {
   "cell_type": "code",
   "execution_count": null,
   "metadata": {},
   "outputs": [],
   "source": []
  },
  {
   "cell_type": "code",
   "execution_count": null,
   "metadata": {},
   "outputs": [],
   "source": []
  }
 ],
 "metadata": {
  "kernelspec": {
   "display_name": "Python 3",
   "language": "python",
   "name": "python3"
  },
  "language_info": {
   "codemirror_mode": {
    "name": "ipython",
    "version": 3
   },
   "file_extension": ".py",
   "mimetype": "text/x-python",
   "name": "python",
   "nbconvert_exporter": "python",
   "pygments_lexer": "ipython3",
   "version": "3.6.1"
  }
 },
 "nbformat": 4,
 "nbformat_minor": 2
}
