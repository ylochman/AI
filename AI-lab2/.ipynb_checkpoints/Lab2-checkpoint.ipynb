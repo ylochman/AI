{
 "cells": [
  {
   "cell_type": "code",
   "execution_count": 2,
   "metadata": {
    "collapsed": true
   },
   "outputs": [],
   "source": [
    "import numpy as np\n",
    "import pandas as pd\n",
    "import scipy"
   ]
  },
  {
   "cell_type": "code",
   "execution_count": 53,
   "metadata": {},
   "outputs": [
    {
     "data": {
      "text/html": [
       "<div>\n",
       "<style>\n",
       "    .dataframe thead tr:only-child th {\n",
       "        text-align: right;\n",
       "    }\n",
       "\n",
       "    .dataframe thead th {\n",
       "        text-align: left;\n",
       "    }\n",
       "\n",
       "    .dataframe tbody tr th {\n",
       "        vertical-align: top;\n",
       "    }\n",
       "</style>\n",
       "<table border=\"1\" class=\"dataframe\">\n",
       "  <thead>\n",
       "    <tr style=\"text-align: right;\">\n",
       "      <th></th>\n",
       "      <th>Місто1</th>\n",
       "      <th>Місто2</th>\n",
       "      <th>Відстань_км</th>\n",
       "    </tr>\n",
       "  </thead>\n",
       "  <tbody>\n",
       "    <tr>\n",
       "      <th>0</th>\n",
       "      <td>Вільнюс</td>\n",
       "      <td>Брест</td>\n",
       "      <td>531</td>\n",
       "    </tr>\n",
       "    <tr>\n",
       "      <th>1</th>\n",
       "      <td>Вітебськ</td>\n",
       "      <td>Брест</td>\n",
       "      <td>638</td>\n",
       "    </tr>\n",
       "  </tbody>\n",
       "</table>\n",
       "</div>"
      ],
      "text/plain": [
       "     Місто1 Місто2  Відстань_км\n",
       "0   Вільнюс  Брест          531\n",
       "1  Вітебськ  Брест          638"
      ]
     },
     "execution_count": 53,
     "metadata": {},
     "output_type": "execute_result"
    }
   ],
   "source": [
    "distances = pd.read_csv('Distances.txt', sep=',')\n",
    "# Місто1, Місто2, Відстань_км\n",
    "distances.head(2)"
   ]
  },
  {
   "cell_type": "code",
   "execution_count": 55,
   "metadata": {},
   "outputs": [],
   "source": [
    "#cities = open('Cities.txt').read().split('\\n')[1:]\n",
    "cities = set(distances['Місто1']).union(set(distances['Місто2']))\n",
    "cities = list(cities)\n",
    "cities.sort()\n",
    "cities_dict = {cities[i]:i for i in range(len(cities))}"
   ]
  },
  {
   "cell_type": "code",
   "execution_count": 57,
   "metadata": {},
   "outputs": [
    {
     "data": {
      "text/plain": [
       "[{3: 531, 4: 638, 9: 699},\n",
       " {2: 581, 4: 1455, 7: 1493},\n",
       " {1: 581, 4: 869, 26: 739},\n",
       " {0: 531, 4: 360, 5: 211, 9: 333, 10: 102, 12: 734},\n",
       " {0: 638, 1: 1455, 2: 869, 3: 360, 16: 911, 18: 522, 21: 602},\n",
       " {3: 211},\n",
       " {7: 863, 11: 812, 13: 1084, 18: 709},\n",
       " {1: 1493, 6: 863, 12: 131},\n",
       " {13: 815, 24: 525},\n",
       " {0: 699, 3: 333, 21: 739},\n",
       " {3: 102, 19: 267},\n",
       " {6: 812, 12: 467},\n",
       " {3: 734, 7: 131, 11: 467, 17: 487, 25: 471},\n",
       " {6: 1084, 8: 815, 15: 690, 16: 411, 18: 368, 21: 664},\n",
       " {15: 2238, 21: 1412},\n",
       " {13: 690, 14: 2238, 26: 940},\n",
       " {4: 911, 13: 411},\n",
       " {12: 487},\n",
       " {4: 522, 6: 709, 13: 368},\n",
       " {10: 267, 21: 641, 23: 308},\n",
       " {24: 461},\n",
       " {4: 602, 9: 739, 13: 664, 14: 1412, 19: 641},\n",
       " {25: 639},\n",
       " {19: 308},\n",
       " {8: 525, 20: 461},\n",
       " {12: 471, 22: 639},\n",
       " {2: 739, 15: 940}]"
      ]
     },
     "execution_count": 57,
     "metadata": {},
     "output_type": "execute_result"
    }
   ],
   "source": [
    "graph = [dict() for i in range(len(cities))]\n",
    "for row in distances.values:\n",
    "    graph[cities_dict[row[0]]].update({cities_dict[row[1]]:row[2]})\n",
    "    graph[cities_dict[row[1]]].update({cities_dict[row[0]]:row[2]})\n",
    "    #graph[cities_dict[row[0]]].update({row[1]:row[2]})\n",
    "    #graph[cities_dict[row[1]]].update({row[0]:row[2]})\n",
    "graph"
   ]
  },
  {
   "cell_type": "code",
   "execution_count": 76,
   "metadata": {
    "collapsed": true
   },
   "outputs": [],
   "source": [
    "start = cities_dict['Мурманськ']\n",
    "end = cities_dict['Сімферополь']"
   ]
  },
  {
   "cell_type": "code",
   "execution_count": 77,
   "metadata": {},
   "outputs": [],
   "source": [
    "n = len(cities)\n",
    "V = graph\n",
    "D = [None] * (n + 1)\n",
    "D[start] = 0\n",
    "Q = [start]\n",
    "Qstart = 0\n",
    "while Qstart < len(Q):\n",
    "    u = Q[Qstart]\n",
    "    Qstart += 1 \n",
    "    for v in V[u].keys(): \n",
    "        if D[v] is None: \n",
    "            D[v] = D[u] + 1 \n",
    "            Q.append(v)\n"
   ]
  },
  {
   "cell_type": "code",
   "execution_count": 78,
   "metadata": {},
   "outputs": [
    {
     "data": {
      "text/plain": [
       "['Мурманськ',\n",
       " 'Санкт-Петербург',\n",
       " 'Мінськ',\n",
       " 'Вітебськ',\n",
       " 'Калінінград',\n",
       " 'Рига',\n",
       " 'Москва',\n",
       " 'Ярославль',\n",
       " 'Брест',\n",
       " 'Вільнюс',\n",
       " 'Вороніж',\n",
       " 'Волгоград',\n",
       " 'Нижній Новгород',\n",
       " 'Орел',\n",
       " 'Каунас',\n",
       " 'Таллінн',\n",
       " 'Казань',\n",
       " 'Донецьк',\n",
       " 'Даугавпілс',\n",
       " 'Київ',\n",
       " 'Житомир',\n",
       " 'Уфа',\n",
       " 'Кишинів',\n",
       " 'Одеса',\n",
       " 'Харків',\n",
       " 'Самара',\n",
       " 'Сімферополь']"
      ]
     },
     "execution_count": 78,
     "metadata": {},
     "output_type": "execute_result"
    }
   ],
   "source": [
    "list(map(lambda i: cities[i],Q))"
   ]
  },
  {
   "cell_type": "code",
   "execution_count": null,
   "metadata": {
    "collapsed": true
   },
   "outputs": [],
   "source": []
  }
 ],
 "metadata": {
  "kernelspec": {
   "display_name": "Python 3",
   "language": "python",
   "name": "python3"
  },
  "language_info": {
   "codemirror_mode": {
    "name": "ipython",
    "version": 3
   },
   "file_extension": ".py",
   "mimetype": "text/x-python",
   "name": "python",
   "nbconvert_exporter": "python",
   "pygments_lexer": "ipython3",
   "version": "3.6.1"
  }
 },
 "nbformat": 4,
 "nbformat_minor": 2
}
